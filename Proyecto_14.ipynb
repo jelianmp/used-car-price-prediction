{
 "cells": [
  {
   "cell_type": "markdown",
   "id": "9901c415",
   "metadata": {},
   "source": [
    "# Proyecto Sprint 14 "
   ]
  },
  {
   "cell_type": "markdown",
   "id": "a8c6f637",
   "metadata": {},
   "source": [
    "## Introducción\n",
    "### Objetivo del proyecto"
   ]
  },
  {
   "cell_type": "markdown",
   "id": "afeb4100",
   "metadata": {},
   "source": [
    "Construir varios modelos de regresión para predecir el precio de coches usados a su vez evaluar calidad (RMSE), tiempo de entrenamiento y velocidad de predicción."
   ]
  },
  {
   "cell_type": "markdown",
   "id": "48fefe84",
   "metadata": {},
   "source": [
    "\n",
    "### Contexto del negocio (Rusty Bargain)"
   ]
  },
  {
   "cell_type": "markdown",
   "id": "627c9a3f",
   "metadata": {},
   "source": [
    "Rusty Bargain es un servicio de venta de coches de segunda mano que está desarrollando una app para atraer a nuevos clientes. Gracias a esa app, puedes averiguar rápidamente el valor de mercado de tu coche. Tienes acceso al historial, especificaciones técnicas, versiones de equipamiento y precios. Tienes que crear un modelo que determine el valor de mercado.\n",
    "\n",
    "A Rusty Bargain le interesa:\n",
    "\n",
    "- La calidad de la predicción\n",
    "- La velocidad de la predicción\n",
    "- El tiempo requerido para el entrenamiento"
   ]
  },
  {
   "cell_type": "markdown",
   "id": "35fc3ea5",
   "metadata": {},
   "source": [
    "## Descripción de los datos\n",
    "### Estructura del dataset"
   ]
  },
  {
   "cell_type": "code",
   "execution_count": 46,
   "id": "4c6c8230",
   "metadata": {},
   "outputs": [],
   "source": [
    "# Carga de librerias\n",
    "import pandas as pd\n",
    "import numpy as np\n",
    "from sklearn.model_selection import train_test_split\n",
    "from sklearn.compose import ColumnTransformer\n",
    "from sklearn.preprocessing import OneHotEncoder\n",
    "from sklearn.pipeline import make_pipeline\n",
    "from sklearn.metrics import mean_squared_error\n",
    "from sklearn.linear_model import LinearRegression\n",
    "from sklearn.tree import DecisionTreeRegressor\n",
    "from sklearn.ensemble import RandomForestRegressor\n",
    "from catboost import CatBoostRegressor \n",
    "import lightgbm as lgb\n",
    "from xgboost import XGBRegressor\n",
    "import matplotlib.pyplot as plt"
   ]
  },
  {
   "cell_type": "code",
   "execution_count": 3,
   "id": "ceab3677",
   "metadata": {},
   "outputs": [
    {
     "name": "stdout",
     "output_type": "stream",
     "text": [
      "<class 'pandas.core.frame.DataFrame'>\n",
      "RangeIndex: 354369 entries, 0 to 354368\n",
      "Data columns (total 16 columns):\n",
      " #   Column             Non-Null Count   Dtype \n",
      "---  ------             --------------   ----- \n",
      " 0   DateCrawled        354369 non-null  object\n",
      " 1   Price              354369 non-null  int64 \n",
      " 2   VehicleType        316879 non-null  object\n",
      " 3   RegistrationYear   354369 non-null  int64 \n",
      " 4   Gearbox            334536 non-null  object\n",
      " 5   Power              354369 non-null  int64 \n",
      " 6   Model              334664 non-null  object\n",
      " 7   Mileage            354369 non-null  int64 \n",
      " 8   RegistrationMonth  354369 non-null  int64 \n",
      " 9   FuelType           321474 non-null  object\n",
      " 10  Brand              354369 non-null  object\n",
      " 11  NotRepaired        283215 non-null  object\n",
      " 12  DateCreated        354369 non-null  object\n",
      " 13  NumberOfPictures   354369 non-null  int64 \n",
      " 14  PostalCode         354369 non-null  int64 \n",
      " 15  LastSeen           354369 non-null  object\n",
      "dtypes: int64(7), object(9)\n",
      "memory usage: 43.3+ MB\n"
     ]
    }
   ],
   "source": [
    "df = pd.read_csv('/datasets/car_data.csv')\n",
    "df.info()"
   ]
  },
  {
   "cell_type": "code",
   "execution_count": 4,
   "id": "187b6b19",
   "metadata": {},
   "outputs": [
    {
     "data": {
      "text/html": [
       "<div>\n",
       "<style scoped>\n",
       "    .dataframe tbody tr th:only-of-type {\n",
       "        vertical-align: middle;\n",
       "    }\n",
       "\n",
       "    .dataframe tbody tr th {\n",
       "        vertical-align: top;\n",
       "    }\n",
       "\n",
       "    .dataframe thead th {\n",
       "        text-align: right;\n",
       "    }\n",
       "</style>\n",
       "<table border=\"1\" class=\"dataframe\">\n",
       "  <thead>\n",
       "    <tr style=\"text-align: right;\">\n",
       "      <th></th>\n",
       "      <th>DateCrawled</th>\n",
       "      <th>Price</th>\n",
       "      <th>VehicleType</th>\n",
       "      <th>RegistrationYear</th>\n",
       "      <th>Gearbox</th>\n",
       "      <th>Power</th>\n",
       "      <th>Model</th>\n",
       "      <th>Mileage</th>\n",
       "      <th>RegistrationMonth</th>\n",
       "      <th>FuelType</th>\n",
       "      <th>Brand</th>\n",
       "      <th>NotRepaired</th>\n",
       "      <th>DateCreated</th>\n",
       "      <th>NumberOfPictures</th>\n",
       "      <th>PostalCode</th>\n",
       "      <th>LastSeen</th>\n",
       "    </tr>\n",
       "  </thead>\n",
       "  <tbody>\n",
       "    <tr>\n",
       "      <th>0</th>\n",
       "      <td>24/03/2016 11:52</td>\n",
       "      <td>480</td>\n",
       "      <td>NaN</td>\n",
       "      <td>1993</td>\n",
       "      <td>manual</td>\n",
       "      <td>0</td>\n",
       "      <td>golf</td>\n",
       "      <td>150000</td>\n",
       "      <td>0</td>\n",
       "      <td>petrol</td>\n",
       "      <td>volkswagen</td>\n",
       "      <td>NaN</td>\n",
       "      <td>24/03/2016 00:00</td>\n",
       "      <td>0</td>\n",
       "      <td>70435</td>\n",
       "      <td>07/04/2016 03:16</td>\n",
       "    </tr>\n",
       "    <tr>\n",
       "      <th>1</th>\n",
       "      <td>24/03/2016 10:58</td>\n",
       "      <td>18300</td>\n",
       "      <td>coupe</td>\n",
       "      <td>2011</td>\n",
       "      <td>manual</td>\n",
       "      <td>190</td>\n",
       "      <td>NaN</td>\n",
       "      <td>125000</td>\n",
       "      <td>5</td>\n",
       "      <td>gasoline</td>\n",
       "      <td>audi</td>\n",
       "      <td>yes</td>\n",
       "      <td>24/03/2016 00:00</td>\n",
       "      <td>0</td>\n",
       "      <td>66954</td>\n",
       "      <td>07/04/2016 01:46</td>\n",
       "    </tr>\n",
       "    <tr>\n",
       "      <th>2</th>\n",
       "      <td>14/03/2016 12:52</td>\n",
       "      <td>9800</td>\n",
       "      <td>suv</td>\n",
       "      <td>2004</td>\n",
       "      <td>auto</td>\n",
       "      <td>163</td>\n",
       "      <td>grand</td>\n",
       "      <td>125000</td>\n",
       "      <td>8</td>\n",
       "      <td>gasoline</td>\n",
       "      <td>jeep</td>\n",
       "      <td>NaN</td>\n",
       "      <td>14/03/2016 00:00</td>\n",
       "      <td>0</td>\n",
       "      <td>90480</td>\n",
       "      <td>05/04/2016 12:47</td>\n",
       "    </tr>\n",
       "    <tr>\n",
       "      <th>3</th>\n",
       "      <td>17/03/2016 16:54</td>\n",
       "      <td>1500</td>\n",
       "      <td>small</td>\n",
       "      <td>2001</td>\n",
       "      <td>manual</td>\n",
       "      <td>75</td>\n",
       "      <td>golf</td>\n",
       "      <td>150000</td>\n",
       "      <td>6</td>\n",
       "      <td>petrol</td>\n",
       "      <td>volkswagen</td>\n",
       "      <td>no</td>\n",
       "      <td>17/03/2016 00:00</td>\n",
       "      <td>0</td>\n",
       "      <td>91074</td>\n",
       "      <td>17/03/2016 17:40</td>\n",
       "    </tr>\n",
       "    <tr>\n",
       "      <th>4</th>\n",
       "      <td>31/03/2016 17:25</td>\n",
       "      <td>3600</td>\n",
       "      <td>small</td>\n",
       "      <td>2008</td>\n",
       "      <td>manual</td>\n",
       "      <td>69</td>\n",
       "      <td>fabia</td>\n",
       "      <td>90000</td>\n",
       "      <td>7</td>\n",
       "      <td>gasoline</td>\n",
       "      <td>skoda</td>\n",
       "      <td>no</td>\n",
       "      <td>31/03/2016 00:00</td>\n",
       "      <td>0</td>\n",
       "      <td>60437</td>\n",
       "      <td>06/04/2016 10:17</td>\n",
       "    </tr>\n",
       "  </tbody>\n",
       "</table>\n",
       "</div>"
      ],
      "text/plain": [
       "        DateCrawled  Price VehicleType  RegistrationYear Gearbox  Power  \\\n",
       "0  24/03/2016 11:52    480         NaN              1993  manual      0   \n",
       "1  24/03/2016 10:58  18300       coupe              2011  manual    190   \n",
       "2  14/03/2016 12:52   9800         suv              2004    auto    163   \n",
       "3  17/03/2016 16:54   1500       small              2001  manual     75   \n",
       "4  31/03/2016 17:25   3600       small              2008  manual     69   \n",
       "\n",
       "   Model  Mileage  RegistrationMonth  FuelType       Brand NotRepaired  \\\n",
       "0   golf   150000                  0    petrol  volkswagen         NaN   \n",
       "1    NaN   125000                  5  gasoline        audi         yes   \n",
       "2  grand   125000                  8  gasoline        jeep         NaN   \n",
       "3   golf   150000                  6    petrol  volkswagen          no   \n",
       "4  fabia    90000                  7  gasoline       skoda          no   \n",
       "\n",
       "        DateCreated  NumberOfPictures  PostalCode          LastSeen  \n",
       "0  24/03/2016 00:00                 0       70435  07/04/2016 03:16  \n",
       "1  24/03/2016 00:00                 0       66954  07/04/2016 01:46  \n",
       "2  14/03/2016 00:00                 0       90480  05/04/2016 12:47  \n",
       "3  17/03/2016 00:00                 0       91074  17/03/2016 17:40  \n",
       "4  31/03/2016 00:00                 0       60437  06/04/2016 10:17  "
      ]
     },
     "execution_count": 4,
     "metadata": {},
     "output_type": "execute_result"
    }
   ],
   "source": [
    "df.head()"
   ]
  },
  {
   "cell_type": "markdown",
   "id": "4e982aa6",
   "metadata": {},
   "source": [
    "<div style=\"color: black ; background-color: LightSeaGreen\">\n",
    "Se cargan los datos y se hace un analisis exploratorio, vemos las primeras filas para familiarizarnos con las columnas disponibles asi como el tipo de datos que se manejan.\n",
    "    \n",
    "Estructura de los datasets:\n",
    "354369  y existen valores ausente que más adelante veré como manejarlas.\n",
    "\n",
    "Tipos de datos:\n",
    "int y object"
   ]
  },
  {
   "cell_type": "markdown",
   "id": "f1c3e582",
   "metadata": {},
   "source": [
    "### Analisis de columnas (valores nulos, tipos de datos)"
   ]
  },
  {
   "cell_type": "markdown",
   "id": "64958679",
   "metadata": {},
   "source": [
    "| Columna             | ¿Útil? | Motivo                                                                 |\n",
    "|---------------------|--------|------------------------------------------------------------------------|\n",
    "| `DateCrawled`       |  No  | Solo indica cuándo se descargó el perfil; no influye en el precio.     |\n",
    "| **`Price`**             | **Sí**  | **Es la variable objetivo que queremos predecir.**                         |\n",
    "| `VehicleType`       | Sí  | Tipo de carrocería.                |\n",
    "| `RegistrationYear`  | Sí  | Año de matriculación: coches más nuevos suelen costar más.             |\n",
    "| `Gearbox`           | Sí  | Transmisión automática o manual puede afectar el valor.                |\n",
    "| `Power`             | Sí  | Potencia del motor (CV).                               |\n",
    "| `Model`             | Sí  | El modelo del coche (dentro de la marca).                  |\n",
    "| `Mileage`           | Sí  | Kilometraje. Cuanto más recorrido, menor valor.                        |\n",
    "| `RegistrationMonth` | No | Puede ser útil, pero en general aporta poco. |\n",
    "| `FuelType`          | Sí  | Gasolina, diésel, etc. Importa para el valor.                          |\n",
    "| `Brand`             | Sí  | Marca del coche.                        |\n",
    "| `NotRepaired`       | Sí  | Si ha sido reparado o no afecta el precio directamente.                |\n",
    "| `DateCreated`       | No  | Fecha de publicación del anuncio, no afecta directamente.               |\n",
    "| `NumberOfPictures`  | No  | Siempre vale 0 en este dataset.                                        |\n",
    "| `PostalCode`        | No  | Solo indica zona geográfica del anuncio.              |\n",
    "| `LastSeen`          | No  | Solo indica cuándo se vio por última vez el anuncio.                   |\n"
   ]
  },
  {
   "cell_type": "markdown",
   "id": "95fb114b",
   "metadata": {},
   "source": [
    "## Preparación de los datos\n",
    "### Limpieza de columnas irrelevantes"
   ]
  },
  {
   "cell_type": "code",
   "execution_count": 6,
   "id": "adfa089a",
   "metadata": {},
   "outputs": [],
   "source": [
    "# Elimine columnas irrelevantes para la predicción del precio\n",
    "columns_to_drop = [\n",
    "    'DateCrawled',\n",
    "    'RegistrationMonth',  # Se consideró poco relevante\n",
    "    'DateCreated',\n",
    "    'NumberOfPictures',\n",
    "    'PostalCode',\n",
    "    'LastSeen'\n",
    "]\n",
    "\n",
    "df.drop(columns=columns_to_drop, inplace=True)"
   ]
  },
  {
   "cell_type": "markdown",
   "id": "fcf1ae1f",
   "metadata": {},
   "source": [
    "### Tratamiento de valores ausentes"
   ]
  },
  {
   "cell_type": "code",
   "execution_count": 7,
   "id": "53a4d61e",
   "metadata": {
    "scrolled": false
   },
   "outputs": [
    {
     "data": {
      "text/plain": [
       "Price                   0\n",
       "VehicleType         37490\n",
       "RegistrationYear        0\n",
       "Gearbox             19833\n",
       "Power                   0\n",
       "Model               19705\n",
       "Mileage                 0\n",
       "FuelType            32895\n",
       "Brand                   0\n",
       "NotRepaired         71154\n",
       "dtype: int64"
      ]
     },
     "execution_count": 7,
     "metadata": {},
     "output_type": "execute_result"
    }
   ],
   "source": [
    "df.isnull().sum()"
   ]
  },
  {
   "cell_type": "code",
   "execution_count": 8,
   "id": "751f0f15",
   "metadata": {},
   "outputs": [],
   "source": [
    "cols_with_na = ['VehicleType', 'Gearbox', 'Model', 'FuelType', 'NotRepaired']\n",
    "df[cols_with_na] = df[cols_with_na].fillna('missing')"
   ]
  },
  {
   "cell_type": "markdown",
   "id": "05cbac78",
   "metadata": {},
   "source": [
    "<div style=\"color: black ; background-color: LightSeaGreen\">\n",
    "Decido eliminar esas columnas porque  no considero que su información sea relevante para el analisis ni para los pasos posteriores como entrenamiento y predicciones, ademas veo cuantos valores nulos hay y en que tipo de columnas para despues rellenar con 'missing' las columnas categoricas ya que más adelante los modelos podrian tener problema siendo estas categoricas.\n"
   ]
  },
  {
   "cell_type": "code",
   "execution_count": 9,
   "id": "d4dd5587",
   "metadata": {
    "scrolled": true
   },
   "outputs": [
    {
     "name": "stdout",
     "output_type": "stream",
     "text": [
      "<class 'pandas.core.frame.DataFrame'>\n",
      "RangeIndex: 354369 entries, 0 to 354368\n",
      "Data columns (total 10 columns):\n",
      " #   Column            Non-Null Count   Dtype \n",
      "---  ------            --------------   ----- \n",
      " 0   Price             354369 non-null  int64 \n",
      " 1   VehicleType       354369 non-null  object\n",
      " 2   RegistrationYear  354369 non-null  int64 \n",
      " 3   Gearbox           354369 non-null  object\n",
      " 4   Power             354369 non-null  int64 \n",
      " 5   Model             354369 non-null  object\n",
      " 6   Mileage           354369 non-null  int64 \n",
      " 7   FuelType          354369 non-null  object\n",
      " 8   Brand             354369 non-null  object\n",
      " 9   NotRepaired       354369 non-null  object\n",
      "dtypes: int64(4), object(6)\n",
      "memory usage: 27.0+ MB\n"
     ]
    }
   ],
   "source": [
    "df.info()\n",
    "# Verificación de las columnas restantes"
   ]
  },
  {
   "cell_type": "markdown",
   "id": "7f8a8521",
   "metadata": {},
   "source": [
    "### División del conjunto de datos en entrenamiento y validación"
   ]
  },
  {
   "cell_type": "markdown",
   "id": "a5f51552",
   "metadata": {},
   "source": [
    "- X → todas las columnas excepto 'Price' (estas son las features o variables independientes)\n",
    "- y → la columna 'Price' (es la target, lo que quiero predecir)"
   ]
  },
  {
   "cell_type": "code",
   "execution_count": 16,
   "id": "5e882fa5",
   "metadata": {},
   "outputs": [],
   "source": [
    "# Separar variables predictoras (features) y variable objetivo (target)\n",
    "target = df['Price']\n",
    "features = df.drop(columns='Price')"
   ]
  },
  {
   "cell_type": "code",
   "execution_count": 17,
   "id": "bbbee10d",
   "metadata": {},
   "outputs": [],
   "source": [
    "RS = 12345  # Valor para random_state\n",
    "features_train, features_valid, target_train, target_valid = train_test_split(\n",
    "    features, target, test_size=0.25, random_state=RS)"
   ]
  },
  {
   "cell_type": "markdown",
   "id": "062c22d8",
   "metadata": {},
   "source": [
    "## Selección y entrenamiento de modelos"
   ]
  },
  {
   "cell_type": "markdown",
   "id": "8d554f7e",
   "metadata": {},
   "source": [
    "### Regresión Lineal - Prueba de cordura"
   ]
  },
  {
   "cell_type": "code",
   "execution_count": 18,
   "id": "acb11893",
   "metadata": {},
   "outputs": [],
   "source": [
    "# Columnas categóricas\n",
    "cat_features = [\n",
    "    'VehicleType',\n",
    "    'Gearbox',\n",
    "    'Model',\n",
    "    'FuelType',\n",
    "    'Brand',\n",
    "    'NotRepaired'\n",
    "]"
   ]
  },
  {
   "cell_type": "code",
   "execution_count": 19,
   "id": "6a40c669",
   "metadata": {
    "scrolled": false
   },
   "outputs": [
    {
     "name": "stdout",
     "output_type": "stream",
     "text": [
      "CPU times: user 414 ms, sys: 228 ms, total: 642 ms\n",
      "Wall time: 649 ms\n",
      "CPU times: user 84.9 ms, sys: 53.2 ms, total: 138 ms\n",
      "Wall time: 139 ms\n",
      "\n",
      "\n",
      "RMSE - Regresión lineal: 3376.935622980557\n"
     ]
    }
   ],
   "source": [
    "# Transformador que aplica OneHot solo a esas columnas.\n",
    "preprocessor = ColumnTransformer(\n",
    "    transformers=[\n",
    "        ('cat', OneHotEncoder(handle_unknown='ignore'), cat_features)\n",
    "    ],\n",
    "    remainder='passthrough'  # Deja las columnas numéricas como están\n",
    ")\n",
    "\n",
    "# Modelo de regresión\n",
    "model_lr = make_pipeline(preprocessor, LinearRegression())\n",
    "# Entrenamiento\n",
    "%time model_lr.fit(features_train, target_train)\n",
    "# Predicción\n",
    "%time preds_lr = model_lr.predict(features_valid)\n",
    "# Evaluación\n",
    "print('\\n')\n",
    "rmse_lr = np.sqrt(mean_squared_error(target_valid, preds_lr))\n",
    "print(\"RMSE - Regresión lineal:\", rmse_lr)"
   ]
  },
  {
   "cell_type": "markdown",
   "id": "06ac32ab",
   "metadata": {},
   "source": [
    "<div style=\"color: black ; background-color: LightSeaGreen\">\n",
    "La regresión lineal es muy rápida para entrenar y predecir pero considero que la calidad de la predicción como primer medida es baja, veamos con otros modelos."
   ]
  },
  {
   "cell_type": "markdown",
   "id": "f0dad7f0",
   "metadata": {},
   "source": [
    "###  Arbol de decisión - con hiperparámetros ajustados"
   ]
  },
  {
   "cell_type": "code",
   "execution_count": 22,
   "id": "9961ed9b",
   "metadata": {},
   "outputs": [
    {
     "name": "stdout",
     "output_type": "stream",
     "text": [
      "CPU times: user 3.07 s, sys: 7.92 ms, total: 3.08 s\n",
      "Wall time: 3.09 s\n",
      "CPU times: user 90.8 ms, sys: 0 ns, total: 90.8 ms\n",
      "Wall time: 90.8 ms\n",
      "\n",
      "\n",
      "RMSE - Árbol de decisión ajustado: 2117.121161531326\n"
     ]
    }
   ],
   "source": [
    "# Modelo de regresión\n",
    "model_tree = DecisionTreeRegressor(\n",
    "    max_depth=10,             \n",
    "    min_samples_split=5,      \n",
    "    random_state=RS\n",
    ")\n",
    "\n",
    "pipeline_tree = make_pipeline(preprocessor, model_tree)\n",
    "\n",
    "# Entrenamiento\n",
    "%time pipeline_tree.fit(features_train, target_train)\n",
    "\n",
    "# Predicción\n",
    "%time preds_tree = pipeline_tree.predict(features_valid)\n",
    "\n",
    "# Evaluación\n",
    "print('\\n')\n",
    "rmse_tree = np.sqrt(mean_squared_error(target_valid, preds_tree))\n",
    "print(\"RMSE - Árbol de decisión ajustado:\", rmse_tree)"
   ]
  },
  {
   "cell_type": "markdown",
   "id": "a1a37fdd",
   "metadata": {},
   "source": [
    "<div style=\"color: black ; background-color: LightSeaGreen\">\n",
    "La predicción en el Árbol de decisión es mejor que la regresión lineal, pero tarda un poco más que la regresión lineal."
   ]
  },
  {
   "cell_type": "markdown",
   "id": "9cab0bc6",
   "metadata": {},
   "source": [
    "###  Random Forest - con hiperparámetros ajustados"
   ]
  },
  {
   "cell_type": "code",
   "execution_count": 25,
   "id": "9ac6d5d2",
   "metadata": {},
   "outputs": [
    {
     "name": "stdout",
     "output_type": "stream",
     "text": [
      "CPU times: user 1min 53s, sys: 37.1 ms, total: 1min 53s\n",
      "Wall time: 1min 54s\n",
      "CPU times: user 375 ms, sys: 0 ns, total: 375 ms\n",
      "Wall time: 378 ms\n",
      "\n",
      "\n",
      "RMSE - Bosque aleatorio: 2027.141930034781\n"
     ]
    }
   ],
   "source": [
    "# Modelo de regresión\n",
    "pipeline_rf = make_pipeline(\n",
    "    preprocessor,\n",
    "    RandomForestRegressor(\n",
    "        n_estimators=50,        \n",
    "        max_depth=10,            \n",
    "        random_state=RS,\n",
    "        n_jobs=-1               \n",
    "    )\n",
    ")\n",
    "\n",
    "# Entrenamiento\n",
    "%time pipeline_rf.fit(features_train, target_train)\n",
    "\n",
    "# Predicción\n",
    "%time preds_rf = pipeline_rf.predict(features_valid)\n",
    "\n",
    "# Evaluación\n",
    "print('\\n')\n",
    "rmse_rf = np.sqrt(mean_squared_error(target_valid, preds_rf))\n",
    "print(\"RMSE - Bosque aleatorio:\", rmse_rf)"
   ]
  },
  {
   "cell_type": "markdown",
   "id": "e5f1eb9f",
   "metadata": {},
   "source": [
    "<div style=\"color: black ; background-color: LightSeaGreen\">\n",
    "Random Forest tiene buena precisión, pero el entrenamiento fue más costoso."
   ]
  },
  {
   "cell_type": "markdown",
   "id": "513ae503",
   "metadata": {},
   "source": [
    "###  CatBoost "
   ]
  },
  {
   "cell_type": "code",
   "execution_count": 26,
   "id": "a73ad732",
   "metadata": {
    "scrolled": false
   },
   "outputs": [
    {
     "name": "stdout",
     "output_type": "stream",
     "text": [
      "Learning rate set to 0.5\n",
      "0:\tlearn: 3278.8435628\ttotal: 175ms\tremaining: 17.3s\n",
      "10:\tlearn: 2037.3059662\ttotal: 1.17s\tremaining: 9.47s\n",
      "20:\tlearn: 1953.5553587\ttotal: 2.11s\tremaining: 7.95s\n",
      "30:\tlearn: 1900.6431863\ttotal: 3.06s\tremaining: 6.82s\n",
      "40:\tlearn: 1870.8164202\ttotal: 3.98s\tremaining: 5.73s\n",
      "50:\tlearn: 1847.7337953\ttotal: 4.91s\tremaining: 4.72s\n",
      "60:\tlearn: 1831.0419048\ttotal: 5.84s\tremaining: 3.73s\n",
      "70:\tlearn: 1818.0454158\ttotal: 6.78s\tremaining: 2.77s\n",
      "80:\tlearn: 1805.7747816\ttotal: 7.7s\tremaining: 1.81s\n",
      "90:\tlearn: 1796.9035024\ttotal: 8.64s\tremaining: 855ms\n",
      "99:\tlearn: 1787.6960056\ttotal: 9.49s\tremaining: 0us\n",
      "CPU times: user 9.66 s, sys: 80 ms, total: 9.74 s\n",
      "Wall time: 9.93 s\n",
      "CPU times: user 76 ms, sys: 0 ns, total: 76 ms\n",
      "Wall time: 76 ms\n",
      "\n",
      "\n",
      "RMSE en validación: 1823.1502653456803\n"
     ]
    }
   ],
   "source": [
    "# Modelo de regresión\n",
    "model = CatBoostRegressor(\n",
    "    loss_function=\"RMSE\",\n",
    "    iterations=100,\n",
    "    random_state=RS\n",
    ")\n",
    "\n",
    "# Entrenamiento\n",
    "%time model.fit(features_train, target_train, cat_features=cat_features, verbose=10)\n",
    "\n",
    "# Predicción\n",
    "%time preds = model.predict(features_valid)\n",
    "\n",
    "# Evaluación\n",
    "print('\\n')\n",
    "rmse = np.sqrt(mean_squared_error(target_valid, preds))\n",
    "print(\"RMSE en CatBoost:\", rmse)"
   ]
  },
  {
   "cell_type": "markdown",
   "id": "5e4098f0",
   "metadata": {},
   "source": [
    "<div style=\"color: black ; background-color: LightSeaGreen\">\n",
    "CatBoost tiene hasta el momento la mejor precisión."
   ]
  },
  {
   "cell_type": "markdown",
   "id": "d1f62f70",
   "metadata": {},
   "source": [
    "###  LightGBM (con dos conjuntos de hiperparámetros)"
   ]
  },
  {
   "cell_type": "code",
   "execution_count": 30,
   "id": "11c5f265",
   "metadata": {
    "scrolled": false
   },
   "outputs": [
    {
     "name": "stdout",
     "output_type": "stream",
     "text": [
      "CPU times: user 4.45 s, sys: 18.1 ms, total: 4.47 s\n",
      "Wall time: 4.46 s\n",
      "CPU times: user 432 ms, sys: 0 ns, total: 432 ms\n",
      "Wall time: 413 ms\n",
      "\n",
      "\n",
      "RMSE - LightGBM (set 1): 1754.4017790519767\n",
      "CPU times: user 11.4 s, sys: 28.7 ms, total: 11.4 s\n",
      "Wall time: 11.4 s\n",
      "CPU times: user 1.34 s, sys: 0 ns, total: 1.34 s\n",
      "Wall time: 1.39 s\n",
      "\n",
      "\n",
      "RMSE - LightGBM (set 2): 1753.0407610310199\n"
     ]
    }
   ],
   "source": [
    "# LightGBM no acepta strings como CatBoost, pero sí puede trabajar con columnas categóricas \n",
    "# si están marcadas como tipo category en Pandas.\n",
    "import warnings\n",
    "warnings.filterwarnings(\"ignore\", category=UserWarning, message=\"Using categorical_feature in Dataset.\")\n",
    "\n",
    "features_lgbm = features.copy()\n",
    "for col in cat_features:\n",
    "    features_lgbm[col] = features_lgbm[col].astype('category')\n",
    "\n",
    "X_train_lgbm, X_valid_lgbm, y_train, y_valid = train_test_split(\n",
    "    features_lgbm, target, test_size=0.25, random_state=RS\n",
    ")\n",
    "\n",
    "\n",
    "# CONJUNTO 1\n",
    "# Modelo de regresión\n",
    "model_lgbm = lgb.LGBMRegressor(\n",
    "    n_estimators=100,\n",
    "    learning_rate=0.3,\n",
    "    max_depth=10,\n",
    "    random_state=12345\n",
    ")\n",
    "\n",
    "# Entrenamiento\n",
    "%time model_lgbm.fit(X_train_lgbm, y_train, categorical_feature=cat_features)\n",
    "\n",
    "# Predicción\n",
    "%time preds_lgbm = model_lgbm.predict(X_valid_lgbm)\n",
    "\n",
    "# Evaluación\n",
    "print('\\n')\n",
    "rmse_lgbm = np.sqrt(mean_squared_error(y_valid, preds_lgbm))\n",
    "print(\"RMSE - LightGBM (set 1):\", rmse_lgbm)\n",
    "\n",
    "# CONJUNTO 2\n",
    "# Modelo de regresión\n",
    "model_lgbm_2 = lgb.LGBMRegressor(\n",
    "    n_estimators=200,\n",
    "    learning_rate=0.1,\n",
    "    max_depth=6,\n",
    "    random_state=12345\n",
    ")\n",
    "\n",
    "# Entrenamiento\n",
    "%time model_lgbm_2.fit(X_train_lgbm, y_train, categorical_feature=cat_features)\n",
    "\n",
    "# Predicción\n",
    "%time preds_lgbm_2 = model_lgbm_2.predict(X_valid_lgbm)\n",
    "\n",
    "# Evaluación\n",
    "print('\\n')\n",
    "rmse_lgbm_2 = np.sqrt(mean_squared_error(y_valid, preds_lgbm_2))\n",
    "print(\"RMSE - LightGBM (set 2):\", rmse_lgbm_2)"
   ]
  },
  {
   "cell_type": "markdown",
   "id": "06a66173",
   "metadata": {},
   "source": [
    "<div style=\"color: black ; background-color: LightSeaGreen\">\n",
    "Ambos conjuntos tienen muy buen RMSE, mejores incluso que CatBoost."
   ]
  },
  {
   "cell_type": "markdown",
   "id": "406d493c",
   "metadata": {},
   "source": [
    "###  XGBoost"
   ]
  },
  {
   "cell_type": "code",
   "execution_count": 32,
   "id": "38182eb5",
   "metadata": {},
   "outputs": [
    {
     "name": "stdout",
     "output_type": "stream",
     "text": [
      "CPU times: user 53.3 s, sys: 90.6 ms, total: 53.4 s\n",
      "Wall time: 53.5 s\n",
      "CPU times: user 512 ms, sys: 3.76 ms, total: 516 ms\n",
      "Wall time: 491 ms\n",
      "RMSE - XGBoost: 1787.559957619124\n"
     ]
    }
   ],
   "source": [
    "# XGBoost no puede manejar texto ni categorías directamente, \n",
    "\n",
    "# Modelo de regresión\n",
    "model_xgb = make_pipeline(\n",
    "    preprocessor,\n",
    "    XGBRegressor(\n",
    "        n_estimators=100,\n",
    "        learning_rate=0.3,\n",
    "        max_depth=6,\n",
    "        random_state=RS,\n",
    "    )\n",
    ")\n",
    "\n",
    "# Entrenamiento\n",
    "%time model_xgb.fit(features_train, target_train)\n",
    "\n",
    "# Predicción\n",
    "%time preds_xgb = model_xgb.predict(features_valid)\n",
    "\n",
    "# Evaluación\n",
    "print('\\n')\n",
    "rmse_xgb = np.sqrt(mean_squared_error(target_valid, preds_xgb))\n",
    "print(\"RMSE - XGBoost:\", rmse_xgb)"
   ]
  },
  {
   "cell_type": "markdown",
   "id": "d5252a50",
   "metadata": {},
   "source": [
    "<div style=\"color: black ; background-color: LightSeaGreen\">\n",
    "XGBoost tambien tiene buena precisión."
   ]
  },
  {
   "cell_type": "markdown",
   "id": "203443d0",
   "metadata": {},
   "source": [
    "## Comparación de resultados\n",
    "### Tabla comparativa de todos los modelos:"
   ]
  },
  {
   "cell_type": "markdown",
   "id": "0ff31f3e",
   "metadata": {},
   "source": [
    "| Modelo                    | RMSE     | Tiempo de entrenamiento | Tiempo de predicción |\n",
    "|---------------------------|----------|--------------------------|------------------------|\n",
    "| Regresión lineal          | 3376.94  | 649 ms                   | 139 ms                 |\n",
    "| Árbol de decisión (ajustado) | 2117.12 | 3.09 s                   | 90.8 ms                |\n",
    "| Bosque aleatorio          | 2027.14  | 1 min 54 s               | 378 ms                 |\n",
    "| CatBoost                  | 1823.15  | 9.93 s                   | 76 ms                  |\n",
    "| LightGBM (set 1)          | 1754.40  | 4.46 s                   | 413 ms                 |\n",
    "| LightGBM (set 2)          | 1753.04  | 11.4 s                   | 1.39 s                 |\n",
    "| XGBoost                   | 1787.56  | 53.5 s                   | 491 ms                 |\n"
   ]
  },
  {
   "cell_type": "code",
   "execution_count": 44,
   "id": "a739a5c8",
   "metadata": {
    "scrolled": false
   },
   "outputs": [
    {
     "data": {
      "image/png": "[encoded data removed]",
      "text/plain": [
       "<Figure size 1000x600 with 1 Axes>"
      ]
     },
     "metadata": {},
     "output_type": "display_data"
    }
   ],
   "source": [
    "# Lista de modelos y sus RMSE\n",
    "modelos = [\n",
    "    \"Regresión lineal\",\n",
    "    \"Árbol decisión (aj)\",\n",
    "    \"Bosque aleatorio\",\n",
    "    \"CatBoost\",\n",
    "    \"LightGBM (1)\",\n",
    "    \"LightGBM (2)\",\n",
    "    \"XGBoost\"\n",
    "]\n",
    "\n",
    "rmse_valores = [\n",
    "    3376.94,\n",
    "    2117.12,\n",
    "    2027.14,\n",
    "    1823.15,\n",
    "    1754.40,\n",
    "    1753.04,\n",
    "    1787.56\n",
    "]\n",
    "\n",
    "# Gráfico de barras horizontales\n",
    "plt.figure(figsize=(10, 6))\n",
    "plt.barh(modelos, rmse_valores, color='skyblue')\n",
    "plt.xlabel(\"RMSE\")\n",
    "plt.title(\"Comparación de modelos por RMSE\")\n",
    "plt.gca().invert_yaxis()  \n",
    "plt.tight_layout()\n",
    "plt.grid(color='gray', linestyle='--', linewidth=0.9, axis='x', which='both')\n",
    "plt.show()"
   ]
  },
  {
   "cell_type": "markdown",
   "id": "4946acae",
   "metadata": {},
   "source": [
    "## Analisis de resultados"
   ]
  },
  {
   "cell_type": "markdown",
   "id": "90816f1a",
   "metadata": {},
   "source": [
    "Los mejores resultados en cuanto a RMSE fueron obtenidos con LightGBM (set 2) y LightGBM (set 1), con valores de ≈1753 y ≈1754, respectivamente. CatBoost y XGBoost también lograron buenos resultados, con RMSE menores a 1850. LightGBM destacó además por su balance entre velocidad y precisión.\n",
    "\n",
    "La regresión lineal, como se esperaba, fue la más rápida, pero mostró un RMSE muy alto, lo que la hace poco útil para este caso práctico. El árbol de decisión ajustado y el bosque aleatorio mejoraron significativamente la precisión, aunque a costa de mayor tiempo de entrenamiento."
   ]
  },
  {
   "cell_type": "markdown",
   "id": "c116a4eb",
   "metadata": {},
   "source": [
    "## Conclusiones"
   ]
  },
  {
   "cell_type": "markdown",
   "id": "b935475b",
   "metadata": {},
   "source": [
    "- **Sí es posible construir un modelo que prediga con buena precisión el valor de mercado de un coche usado.**\n",
    "- Se recomienda utilizar LightGBM con ajuste de hiperparámetros por su precisión, rapidez y compatibilidad con producción.\n",
    "- También se destaca CatBoost por su facilidad de uso con variables categóricas y velocidad competitiva."
   ]
  }
 ],
 "metadata": {
  "ExecuteTimeLog": [
   {
    "duration": 181,
    "start_time": "2025-06-18T00:45:15.658Z"
   },
   {
    "duration": 321,
    "start_time": "2025-06-18T00:45:16.777Z"
   },
   {
    "duration": 556,
    "start_time": "2025-06-18T00:45:17.780Z"
   },
   {
    "duration": 14,
    "start_time": "2025-06-18T00:45:26.101Z"
   },
   {
    "duration": 7,
    "start_time": "2025-06-18T00:47:19.989Z"
   },
   {
    "duration": 14,
    "start_time": "2025-06-18T00:50:06.266Z"
   },
   {
    "duration": 75,
    "start_time": "2025-06-18T00:50:16.082Z"
   },
   {
    "duration": 99,
    "start_time": "2025-06-18T00:50:34.192Z"
   },
   {
    "duration": 62,
    "start_time": "2025-06-18T00:58:34.235Z"
   },
   {
    "duration": 3,
    "start_time": "2025-06-18T01:00:10.900Z"
   },
   {
    "duration": 3,
    "start_time": "2025-06-18T01:00:46.280Z"
   },
   {
    "duration": 2,
    "start_time": "2025-06-18T01:00:47.385Z"
   },
   {
    "duration": 518,
    "start_time": "2025-06-18T01:04:33.796Z"
   },
   {
    "duration": 3,
    "start_time": "2025-06-18T01:06:26.182Z"
   },
   {
    "duration": 75,
    "start_time": "2025-06-18T01:06:30.326Z"
   },
   {
    "duration": 16,
    "start_time": "2025-06-18T01:06:54.869Z"
   },
   {
    "duration": 77,
    "start_time": "2025-06-18T01:06:56.311Z"
   },
   {
    "duration": 4,
    "start_time": "2025-06-18T01:06:58.650Z"
   },
   {
    "duration": 796,
    "start_time": "2025-06-18T01:07:48.466Z"
   },
   {
    "duration": 16,
    "start_time": "2025-06-18T01:11:37.161Z"
   },
   {
    "duration": 46114,
    "start_time": "2025-06-18T01:12:07.154Z"
   },
   {
    "duration": 3182,
    "start_time": "2025-06-18T01:14:33.502Z"
   },
   {
    "duration": 27,
    "start_time": "2025-06-18T01:19:17.907Z"
   },
   {
    "duration": 10,
    "start_time": "2025-06-18T01:19:24.741Z"
   },
   {
    "duration": 114557,
    "start_time": "2025-06-18T01:19:29.049Z"
   },
   {
    "duration": 10017,
    "start_time": "2025-06-18T01:22:28.782Z"
   },
   {
    "duration": 193,
    "start_time": "2025-06-18T01:25:13.455Z"
   },
   {
    "duration": 77,
    "start_time": "2025-06-18T01:25:20.814Z"
   },
   {
    "duration": 17521,
    "start_time": "2025-06-18T01:25:24.130Z"
   },
   {
    "duration": 17855,
    "start_time": "2025-06-18T01:28:57.387Z"
   },
   {
    "duration": 131,
    "start_time": "2025-06-18T01:32:16.028Z"
   },
   {
    "duration": 54024,
    "start_time": "2025-06-18T01:32:53.203Z"
   },
   {
    "duration": 6,
    "start_time": "2025-06-18T01:36:02.854Z"
   },
   {
    "duration": 25,
    "start_time": "2025-06-18T01:36:36.841Z"
   },
   {
    "duration": 2199,
    "start_time": "2025-06-18T01:36:41.533Z"
   },
   {
    "duration": 241,
    "start_time": "2025-06-18T01:36:44.672Z"
   },
   {
    "duration": 327,
    "start_time": "2025-06-18T01:37:21.657Z"
   },
   {
    "duration": 330,
    "start_time": "2025-06-18T01:37:26.046Z"
   },
   {
    "duration": 344,
    "start_time": "2025-06-18T01:37:44.536Z"
   },
   {
    "duration": 362,
    "start_time": "2025-06-18T01:38:06.926Z"
   },
   {
    "duration": 254,
    "start_time": "2025-06-18T01:38:48.240Z"
   },
   {
    "duration": 269,
    "start_time": "2025-06-18T01:39:00.629Z"
   },
   {
    "duration": 272,
    "start_time": "2025-06-18T01:39:09.894Z"
   },
   {
    "duration": 257,
    "start_time": "2025-06-18T01:39:15.488Z"
   },
   {
    "duration": 4,
    "start_time": "2025-06-18T01:43:19.284Z"
   },
   {
    "duration": 3,
    "start_time": "2025-06-18T01:43:52.713Z"
   }
  ],
  "kernelspec": {
   "display_name": "Python 3 (ipykernel)",
   "language": "python",
   "name": "python3"
  },
  "language_info": {
   "codemirror_mode": {
    "name": "ipython",
    "version": 3
   },
   "file_extension": ".py",
   "mimetype": "text/x-python",
   "name": "python",
   "nbconvert_exporter": "python",
   "pygments_lexer": "ipython3",
   "version": "3.9.19"
  },
  "toc": {
   "base_numbering": 1,
   "nav_menu": {},
   "number_sections": true,
   "sideBar": true,
   "skip_h1_title": true,
   "title_cell": "Table of Contents",
   "title_sidebar": "Contents",
   "toc_cell": false,
   "toc_position": {},
   "toc_section_display": true,
   "toc_window_display": false
  }
 },
 "nbformat": 4,
 "nbformat_minor": 5
}
